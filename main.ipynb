{
 "cells": [
  {
   "cell_type": "code",
   "execution_count": 502,
   "metadata": {},
   "outputs": [],
   "source": [
    "import pandas as pd\n",
    "import numpy as np\n",
    "import matplotlib.pyplot as plt\n",
    "import seaborn as sns\n",
    "from sklearn.linear_model import LinearRegression, LogisticRegression\n",
    "from sklearn.svm import SVR\n",
    "from sklearn.ensemble import RandomForestRegressor\n",
    "from sklearn.tree import DecisionTreeRegressor\n",
    "from sklearn.neighbors import KNeighborsRegressor\n",
    "from sklearn.neural_network import MLPRegressor\n",
    "from sklearn.decomposition import PCA\n",
    "from sklearn.pipeline import make_pipeline\n",
    "from sklearn.preprocessing import StandardScaler, RobustScaler, MinMaxScaler, Normalizer\n",
    "from sklearn.metrics import (\n",
    "    r2_score,\n",
    "    mean_squared_error,\n",
    "    mean_absolute_error,\n",
    "    make_scorer,\n",
    "    mean_squared_log_error,\n",
    ")\n",
    "from sklearn.feature_extraction.text import CountVectorizer\n",
    "from sklearn.model_selection import GridSearchCV, train_test_split, cross_val_score\n",
    "\n",
    "# import cpi"
   ]
  },
  {
   "cell_type": "code",
   "execution_count": 503,
   "metadata": {},
   "outputs": [],
   "source": [
    "data_df = pd.read_csv(\"train.csv\")"
   ]
  },
  {
   "cell_type": "code",
   "execution_count": 504,
   "metadata": {},
   "outputs": [],
   "source": [
    "data_df = data_df[\n",
    "    [\n",
    "        \"budget\",\n",
    "        \"popularity\",\n",
    "        \"runtime\",\n",
    "        \"vote_average\",\n",
    "        \"vote_count\",\n",
    "        \"release_date\",\n",
    "        \"revenue\",\n",
    "    ]\n",
    "]"
   ]
  },
  {
   "cell_type": "code",
   "execution_count": 505,
   "metadata": {},
   "outputs": [],
   "source": [
    "# Realease date\n",
    "data_df[\"release_date\"] = pd.to_datetime(data_df[\"release_date\"])\n",
    "data_df[\"release_year\"] = data_df[\"release_date\"].dt.year\n",
    "\n",
    "# data_df[\"cpi\"] = data_df[\"release_date\"].apply(lambda x: cpi.get(x.year))\n",
    "data_df = data_df.drop(columns=[\"release_date\"])"
   ]
  },
  {
   "cell_type": "code",
   "execution_count": 506,
   "metadata": {},
   "outputs": [
    {
     "name": "stdout",
     "output_type": "stream",
     "text": [
      "<class 'pandas.core.frame.DataFrame'>\n",
      "RangeIndex: 6091 entries, 0 to 6090\n",
      "Data columns (total 7 columns):\n",
      " #   Column        Non-Null Count  Dtype  \n",
      "---  ------        --------------  -----  \n",
      " 0   budget        6091 non-null   float64\n",
      " 1   popularity    6091 non-null   float64\n",
      " 2   runtime       6091 non-null   float64\n",
      " 3   vote_average  6091 non-null   float64\n",
      " 4   vote_count    6091 non-null   float64\n",
      " 5   revenue       6091 non-null   float64\n",
      " 6   release_year  6091 non-null   int32  \n",
      "dtypes: float64(6), int32(1)\n",
      "memory usage: 309.4 KB\n",
      "None\n"
     ]
    }
   ],
   "source": [
    "print(data_df.info())"
   ]
  },
  {
   "cell_type": "code",
   "execution_count": 507,
   "metadata": {},
   "outputs": [],
   "source": [
    "train, test = train_test_split(data_df, test_size=0.2, random_state=42)"
   ]
  },
  {
   "cell_type": "code",
   "execution_count": 508,
   "metadata": {},
   "outputs": [
    {
     "data": {
      "text/html": [
       "<style>#sk-container-id-40 {color: black;}#sk-container-id-40 pre{padding: 0;}#sk-container-id-40 div.sk-toggleable {background-color: white;}#sk-container-id-40 label.sk-toggleable__label {cursor: pointer;display: block;width: 100%;margin-bottom: 0;padding: 0.3em;box-sizing: border-box;text-align: center;}#sk-container-id-40 label.sk-toggleable__label-arrow:before {content: \"▸\";float: left;margin-right: 0.25em;color: #696969;}#sk-container-id-40 label.sk-toggleable__label-arrow:hover:before {color: black;}#sk-container-id-40 div.sk-estimator:hover label.sk-toggleable__label-arrow:before {color: black;}#sk-container-id-40 div.sk-toggleable__content {max-height: 0;max-width: 0;overflow: hidden;text-align: left;background-color: #f0f8ff;}#sk-container-id-40 div.sk-toggleable__content pre {margin: 0.2em;color: black;border-radius: 0.25em;background-color: #f0f8ff;}#sk-container-id-40 input.sk-toggleable__control:checked~div.sk-toggleable__content {max-height: 200px;max-width: 100%;overflow: auto;}#sk-container-id-40 input.sk-toggleable__control:checked~label.sk-toggleable__label-arrow:before {content: \"▾\";}#sk-container-id-40 div.sk-estimator input.sk-toggleable__control:checked~label.sk-toggleable__label {background-color: #d4ebff;}#sk-container-id-40 div.sk-label input.sk-toggleable__control:checked~label.sk-toggleable__label {background-color: #d4ebff;}#sk-container-id-40 input.sk-hidden--visually {border: 0;clip: rect(1px 1px 1px 1px);clip: rect(1px, 1px, 1px, 1px);height: 1px;margin: -1px;overflow: hidden;padding: 0;position: absolute;width: 1px;}#sk-container-id-40 div.sk-estimator {font-family: monospace;background-color: #f0f8ff;border: 1px dotted black;border-radius: 0.25em;box-sizing: border-box;margin-bottom: 0.5em;}#sk-container-id-40 div.sk-estimator:hover {background-color: #d4ebff;}#sk-container-id-40 div.sk-parallel-item::after {content: \"\";width: 100%;border-bottom: 1px solid gray;flex-grow: 1;}#sk-container-id-40 div.sk-label:hover label.sk-toggleable__label {background-color: #d4ebff;}#sk-container-id-40 div.sk-serial::before {content: \"\";position: absolute;border-left: 1px solid gray;box-sizing: border-box;top: 0;bottom: 0;left: 50%;z-index: 0;}#sk-container-id-40 div.sk-serial {display: flex;flex-direction: column;align-items: center;background-color: white;padding-right: 0.2em;padding-left: 0.2em;position: relative;}#sk-container-id-40 div.sk-item {position: relative;z-index: 1;}#sk-container-id-40 div.sk-parallel {display: flex;align-items: stretch;justify-content: center;background-color: white;position: relative;}#sk-container-id-40 div.sk-item::before, #sk-container-id-40 div.sk-parallel-item::before {content: \"\";position: absolute;border-left: 1px solid gray;box-sizing: border-box;top: 0;bottom: 0;left: 50%;z-index: -1;}#sk-container-id-40 div.sk-parallel-item {display: flex;flex-direction: column;z-index: 1;position: relative;background-color: white;}#sk-container-id-40 div.sk-parallel-item:first-child::after {align-self: flex-end;width: 50%;}#sk-container-id-40 div.sk-parallel-item:last-child::after {align-self: flex-start;width: 50%;}#sk-container-id-40 div.sk-parallel-item:only-child::after {width: 0;}#sk-container-id-40 div.sk-dashed-wrapped {border: 1px dashed gray;margin: 0 0.4em 0.5em 0.4em;box-sizing: border-box;padding-bottom: 0.4em;background-color: white;}#sk-container-id-40 div.sk-label label {font-family: monospace;font-weight: bold;display: inline-block;line-height: 1.2em;}#sk-container-id-40 div.sk-label-container {text-align: center;}#sk-container-id-40 div.sk-container {/* jupyter's `normalize.less` sets `[hidden] { display: none; }` but bootstrap.min.css set `[hidden] { display: none !important; }` so we also need the `!important` here to be able to override the default hidden behavior on the sphinx rendered scikit-learn.org. See: https://github.com/scikit-learn/scikit-learn/issues/21755 */display: inline-block !important;position: relative;}#sk-container-id-40 div.sk-text-repr-fallback {display: none;}</style><div id=\"sk-container-id-40\" class=\"sk-top-container\"><div class=\"sk-text-repr-fallback\"><pre>Pipeline(steps=[(&#x27;standardscaler&#x27;, StandardScaler()),\n",
       "                (&#x27;randomforestregressor&#x27;,\n",
       "                 RandomForestRegressor(max_depth=10, min_samples_leaf=5,\n",
       "                                       min_samples_split=5, n_estimators=10))])</pre><b>In a Jupyter environment, please rerun this cell to show the HTML representation or trust the notebook. <br />On GitHub, the HTML representation is unable to render, please try loading this page with nbviewer.org.</b></div><div class=\"sk-container\" hidden><div class=\"sk-item sk-dashed-wrapped\"><div class=\"sk-label-container\"><div class=\"sk-label sk-toggleable\"><input class=\"sk-toggleable__control sk-hidden--visually\" id=\"sk-estimator-id-119\" type=\"checkbox\" ><label for=\"sk-estimator-id-119\" class=\"sk-toggleable__label sk-toggleable__label-arrow\">Pipeline</label><div class=\"sk-toggleable__content\"><pre>Pipeline(steps=[(&#x27;standardscaler&#x27;, StandardScaler()),\n",
       "                (&#x27;randomforestregressor&#x27;,\n",
       "                 RandomForestRegressor(max_depth=10, min_samples_leaf=5,\n",
       "                                       min_samples_split=5, n_estimators=10))])</pre></div></div></div><div class=\"sk-serial\"><div class=\"sk-item\"><div class=\"sk-estimator sk-toggleable\"><input class=\"sk-toggleable__control sk-hidden--visually\" id=\"sk-estimator-id-120\" type=\"checkbox\" ><label for=\"sk-estimator-id-120\" class=\"sk-toggleable__label sk-toggleable__label-arrow\">StandardScaler</label><div class=\"sk-toggleable__content\"><pre>StandardScaler()</pre></div></div></div><div class=\"sk-item\"><div class=\"sk-estimator sk-toggleable\"><input class=\"sk-toggleable__control sk-hidden--visually\" id=\"sk-estimator-id-121\" type=\"checkbox\" ><label for=\"sk-estimator-id-121\" class=\"sk-toggleable__label sk-toggleable__label-arrow\">RandomForestRegressor</label><div class=\"sk-toggleable__content\"><pre>RandomForestRegressor(max_depth=10, min_samples_leaf=5, min_samples_split=5,\n",
       "                      n_estimators=10)</pre></div></div></div></div></div></div></div>"
      ],
      "text/plain": [
       "Pipeline(steps=[('standardscaler', StandardScaler()),\n",
       "                ('randomforestregressor',\n",
       "                 RandomForestRegressor(max_depth=10, min_samples_leaf=5,\n",
       "                                       min_samples_split=5, n_estimators=10))])"
      ]
     },
     "execution_count": 508,
     "metadata": {},
     "output_type": "execute_result"
    }
   ],
   "source": [
    "pipeline = make_pipeline(\n",
    "    StandardScaler(),\n",
    "    # PCA(n_components=0.95),\n",
    "    RandomForestRegressor(\n",
    "        max_depth=10,\n",
    "        min_samples_leaf=5,\n",
    "        min_samples_split=5,\n",
    "        n_estimators=10,\n",
    "    ),\n",
    "    # MLPRegressor(\n",
    "    #     verbose=True,\n",
    "    #     max_iter=200,\n",
    "    #     hidden_layer_sizes=(7, 14, 56, 28, 14, 7, 3, 1),\n",
    "    # ),\n",
    ")\n",
    "pipeline.fit(train.drop(columns=[\"revenue\"]), train[\"revenue\"])"
   ]
  },
  {
   "cell_type": "code",
   "execution_count": 509,
   "metadata": {},
   "outputs": [],
   "source": [
    "# Grid search\n",
    "# param_grid = {\n",
    "#     \"randomforestregressor__n_estimators\": [10, 20, 50, 100, 200, 500],\n",
    "#     \"randomforestregressor__max_depth\": [None, 2, 5, 10, 20, 50],\n",
    "#     \"randomforestregressor__min_samples_split\": [2, 5, 10, 20, 50],\n",
    "#     \"randomforestregressor__min_samples_leaf\": [1, 2, 5, 10, 20, 50],\n",
    "# }\n",
    "# grid = GridSearchCV(pipeline, param_grid, cv=5, verbose=5, n_jobs=-1)\n",
    "# grid.fit(train.drop(columns=[\"revenue\"]), train[\"revenue\"])\n",
    "# print(grid.best_params_)"
   ]
  },
  {
   "cell_type": "code",
   "execution_count": 510,
   "metadata": {},
   "outputs": [
    {
     "name": "stdout",
     "output_type": "stream",
     "text": [
      "R2: 0.8607644736030978\n",
      "RMSLE: -2.2160714126454804\n",
      "R2: 0.763250075238173\n",
      "RMSLE: -2.2029731632129703\n"
     ]
    }
   ],
   "source": [
    "def rmsle(y_true, y_pred):\n",
    "    return np.sqrt(mean_squared_log_error(y_true, y_pred))\n",
    "\n",
    "\n",
    "rmsle_scorer = make_scorer(rmsle, greater_is_better=False)\n",
    "\n",
    "print(\"R2:\", pipeline.score(train.drop(columns=[\"revenue\"]), train[\"revenue\"]))\n",
    "print(\n",
    "    \"RMSLE:\", rmsle_scorer(pipeline, train.drop(columns=[\"revenue\"]), train[\"revenue\"])\n",
    ")\n",
    "\n",
    "print(\"R2:\", pipeline.score(test.drop(columns=[\"revenue\"]), test[\"revenue\"]))\n",
    "print(\"RMSLE:\", rmsle_scorer(pipeline, test.drop(columns=[\"revenue\"]), test[\"revenue\"]))"
   ]
  },
  {
   "cell_type": "code",
   "execution_count": 511,
   "metadata": {},
   "outputs": [
    {
     "data": {
      "text/html": [
       "<div>\n",
       "<style scoped>\n",
       "    .dataframe tbody tr th:only-of-type {\n",
       "        vertical-align: middle;\n",
       "    }\n",
       "\n",
       "    .dataframe tbody tr th {\n",
       "        vertical-align: top;\n",
       "    }\n",
       "\n",
       "    .dataframe thead th {\n",
       "        text-align: right;\n",
       "    }\n",
       "</style>\n",
       "<table border=\"1\" class=\"dataframe\">\n",
       "  <thead>\n",
       "    <tr style=\"text-align: right;\">\n",
       "      <th></th>\n",
       "      <th>budget</th>\n",
       "      <th>popularity</th>\n",
       "      <th>runtime</th>\n",
       "      <th>vote_average</th>\n",
       "      <th>vote_count</th>\n",
       "      <th>revenue</th>\n",
       "      <th>release_year</th>\n",
       "      <th>predicted</th>\n",
       "      <th>error</th>\n",
       "      <th>error_rank</th>\n",
       "    </tr>\n",
       "  </thead>\n",
       "  <tbody>\n",
       "    <tr>\n",
       "      <th>2025</th>\n",
       "      <td>170000000.0</td>\n",
       "      <td>332.130</td>\n",
       "      <td>131.0</td>\n",
       "      <td>8.246</td>\n",
       "      <td>7849.0</td>\n",
       "      <td>1.488733e+09</td>\n",
       "      <td>2022</td>\n",
       "      <td>6.822374e+08</td>\n",
       "      <td>8.064954e+08</td>\n",
       "      <td>1.0</td>\n",
       "    </tr>\n",
       "    <tr>\n",
       "      <th>88</th>\n",
       "      <td>190000000.0</td>\n",
       "      <td>112.043</td>\n",
       "      <td>137.0</td>\n",
       "      <td>7.236</td>\n",
       "      <td>10090.0</td>\n",
       "      <td>1.515341e+09</td>\n",
       "      <td>2015</td>\n",
       "      <td>8.498019e+08</td>\n",
       "      <td>6.655395e+08</td>\n",
       "      <td>2.0</td>\n",
       "    </tr>\n",
       "    <tr>\n",
       "      <th>2191</th>\n",
       "      <td>63000000.0</td>\n",
       "      <td>49.284</td>\n",
       "      <td>127.0</td>\n",
       "      <td>7.943</td>\n",
       "      <td>15330.0</td>\n",
       "      <td>9.201000e+08</td>\n",
       "      <td>1993</td>\n",
       "      <td>2.904612e+08</td>\n",
       "      <td>6.296388e+08</td>\n",
       "      <td>3.0</td>\n",
       "    </tr>\n",
       "    <tr>\n",
       "      <th>2663</th>\n",
       "      <td>52000000.0</td>\n",
       "      <td>66.218</td>\n",
       "      <td>135.0</td>\n",
       "      <td>7.995</td>\n",
       "      <td>16092.0</td>\n",
       "      <td>9.108000e+08</td>\n",
       "      <td>2018</td>\n",
       "      <td>4.220956e+08</td>\n",
       "      <td>4.887044e+08</td>\n",
       "      <td>4.0</td>\n",
       "    </tr>\n",
       "    <tr>\n",
       "      <th>1916</th>\n",
       "      <td>250000000.0</td>\n",
       "      <td>57.882</td>\n",
       "      <td>135.0</td>\n",
       "      <td>6.565</td>\n",
       "      <td>7991.0</td>\n",
       "      <td>3.929524e+08</td>\n",
       "      <td>2018</td>\n",
       "      <td>8.792181e+08</td>\n",
       "      <td>4.862657e+08</td>\n",
       "      <td>5.0</td>\n",
       "    </tr>\n",
       "    <tr>\n",
       "      <th>1894</th>\n",
       "      <td>40000000.0</td>\n",
       "      <td>79.271</td>\n",
       "      <td>135.0</td>\n",
       "      <td>7.243</td>\n",
       "      <td>18208.0</td>\n",
       "      <td>7.018000e+08</td>\n",
       "      <td>2017</td>\n",
       "      <td>2.806573e+08</td>\n",
       "      <td>4.211427e+08</td>\n",
       "      <td>6.0</td>\n",
       "    </tr>\n",
       "    <tr>\n",
       "      <th>1261</th>\n",
       "      <td>200000000.0</td>\n",
       "      <td>94.182</td>\n",
       "      <td>135.0</td>\n",
       "      <td>7.389</td>\n",
       "      <td>21229.0</td>\n",
       "      <td>1.349926e+09</td>\n",
       "      <td>2018</td>\n",
       "      <td>9.382135e+08</td>\n",
       "      <td>4.117126e+08</td>\n",
       "      <td>7.0</td>\n",
       "    </tr>\n",
       "    <tr>\n",
       "      <th>3477</th>\n",
       "      <td>200000000.0</td>\n",
       "      <td>78.290</td>\n",
       "      <td>95.0</td>\n",
       "      <td>7.900</td>\n",
       "      <td>7764.0</td>\n",
       "      <td>4.975047e+07</td>\n",
       "      <td>2021</td>\n",
       "      <td>4.393824e+08</td>\n",
       "      <td>3.896319e+08</td>\n",
       "      <td>8.0</td>\n",
       "    </tr>\n",
       "    <tr>\n",
       "      <th>530</th>\n",
       "      <td>113000000.0</td>\n",
       "      <td>66.314</td>\n",
       "      <td>140.0</td>\n",
       "      <td>7.415</td>\n",
       "      <td>12900.0</td>\n",
       "      <td>8.500000e+08</td>\n",
       "      <td>2005</td>\n",
       "      <td>4.942470e+08</td>\n",
       "      <td>3.557530e+08</td>\n",
       "      <td>9.0</td>\n",
       "    </tr>\n",
       "    <tr>\n",
       "      <th>1840</th>\n",
       "      <td>177200000.0</td>\n",
       "      <td>127.078</td>\n",
       "      <td>136.0</td>\n",
       "      <td>6.629</td>\n",
       "      <td>7079.0</td>\n",
       "      <td>2.259733e+08</td>\n",
       "      <td>2017</td>\n",
       "      <td>5.720676e+08</td>\n",
       "      <td>3.460943e+08</td>\n",
       "      <td>10.0</td>\n",
       "    </tr>\n",
       "  </tbody>\n",
       "</table>\n",
       "</div>"
      ],
      "text/plain": [
       "           budget  popularity  runtime  vote_average  vote_count  \\\n",
       "2025  170000000.0     332.130    131.0         8.246      7849.0   \n",
       "88    190000000.0     112.043    137.0         7.236     10090.0   \n",
       "2191   63000000.0      49.284    127.0         7.943     15330.0   \n",
       "2663   52000000.0      66.218    135.0         7.995     16092.0   \n",
       "1916  250000000.0      57.882    135.0         6.565      7991.0   \n",
       "1894   40000000.0      79.271    135.0         7.243     18208.0   \n",
       "1261  200000000.0      94.182    135.0         7.389     21229.0   \n",
       "3477  200000000.0      78.290     95.0         7.900      7764.0   \n",
       "530   113000000.0      66.314    140.0         7.415     12900.0   \n",
       "1840  177200000.0     127.078    136.0         6.629      7079.0   \n",
       "\n",
       "           revenue  release_year     predicted         error  error_rank  \n",
       "2025  1.488733e+09          2022  6.822374e+08  8.064954e+08         1.0  \n",
       "88    1.515341e+09          2015  8.498019e+08  6.655395e+08         2.0  \n",
       "2191  9.201000e+08          1993  2.904612e+08  6.296388e+08         3.0  \n",
       "2663  9.108000e+08          2018  4.220956e+08  4.887044e+08         4.0  \n",
       "1916  3.929524e+08          2018  8.792181e+08  4.862657e+08         5.0  \n",
       "1894  7.018000e+08          2017  2.806573e+08  4.211427e+08         6.0  \n",
       "1261  1.349926e+09          2018  9.382135e+08  4.117126e+08         7.0  \n",
       "3477  4.975047e+07          2021  4.393824e+08  3.896319e+08         8.0  \n",
       "530   8.500000e+08          2005  4.942470e+08  3.557530e+08         9.0  \n",
       "1840  2.259733e+08          2017  5.720676e+08  3.460943e+08        10.0  "
      ]
     },
     "execution_count": 511,
     "metadata": {},
     "output_type": "execute_result"
    }
   ],
   "source": [
    "# Rank movie predictions by error\n",
    "test[\"predicted\"] = pipeline.predict(test.drop(columns=[\"revenue\"]))\n",
    "test[\"error\"] = abs(test[\"predicted\"] - test[\"revenue\"])\n",
    "test[\"error_rank\"] = test[\"error\"].rank(ascending=False)\n",
    "test.sort_values(\"error_rank\", inplace=True)\n",
    "test.head(10)"
   ]
  },
  {
   "cell_type": "code",
   "execution_count": 512,
   "metadata": {},
   "outputs": [
    {
     "data": {
      "image/png": "[encoded data removed]",
      "text/plain": [
       "<Figure size 640x480 with 2 Axes>"
      ]
     },
     "metadata": {},
     "output_type": "display_data"
    }
   ],
   "source": [
    "# Print correlation matrix\n",
    "corr = data_df.corr()\n",
    "sns.heatmap(corr, annot=True)\n",
    "plt.show()"
   ]
  },
  {
   "cell_type": "code",
   "execution_count": 513,
   "metadata": {},
   "outputs": [
    {
     "name": "stdout",
     "output_type": "stream",
     "text": [
      "              importance\n",
      "budget          0.542032\n",
      "vote_count      0.339683\n",
      "popularity      0.043446\n",
      "runtime         0.029671\n",
      "release_year    0.028110\n",
      "vote_average    0.017057\n"
     ]
    }
   ],
   "source": [
    "# Print the 10 most important features\n",
    "feature_importances = pd.DataFrame(\n",
    "    pipeline.steps[1][1].feature_importances_,\n",
    "    index=train.drop(columns=[\"revenue\"]).columns,\n",
    "    columns=[\"importance\"],\n",
    ").sort_values(\"importance\", ascending=False)\n",
    "print(feature_importances.head(10))"
   ]
  },
  {
   "cell_type": "code",
   "execution_count": 514,
   "metadata": {},
   "outputs": [
    {
     "name": "stdout",
     "output_type": "stream",
     "text": [
      "4395 / 4398\n"
     ]
    }
   ],
   "source": [
    "# Make predictions for Kaggle\n",
    "\n",
    "kaggle_df = pd.read_csv(\"test.csv\")\n",
    "kaggle_df = kaggle_df[\n",
    "    [\n",
    "        \"budget\",\n",
    "        \"popularity\",\n",
    "        \"runtime\",\n",
    "        \"vote_average\",\n",
    "        \"vote_count\",\n",
    "        \"release_date\",\n",
    "        \"id_kaggle\",\n",
    "    ]\n",
    "]\n",
    "kaggle_df[\"release_date\"] = pd.to_datetime(kaggle_df[\"release_date\"])\n",
    "kaggle_df[\"release_year\"] = kaggle_df[\"release_date\"].dt.year\n",
    "# kaggle_df[\"cpi\"] = kaggle_df[\"release_date\"].apply(lambda x: cpi.get(x.year))\n",
    "kaggle_df = kaggle_df.drop(columns=[\"release_date\"])\n",
    "\n",
    "kaggle_df[\"revenue\"] = pipeline.predict(\n",
    "    kaggle_df[\n",
    "        [\n",
    "            \"budget\",\n",
    "            \"popularity\",\n",
    "            \"runtime\",\n",
    "            \"vote_average\",\n",
    "            \"vote_count\",\n",
    "            \"release_year\",\n",
    "        ]\n",
    "    ]\n",
    ")\n",
    "kaggle_df = kaggle_df[[\"id_kaggle\", \"revenue\"]]\n",
    "kaggle_df.columns = [\"id\", \"revenue\"]\n",
    "kaggle_df.sort_values(\"id\", inplace=True)\n",
    "\n",
    "sample_submission = pd.read_csv(\"sample_submission.csv\")\n",
    "print(f\"{len(kaggle_df)} / {len(sample_submission)}\")\n",
    "\n",
    "kaggle_df.to_csv(\"submission.csv\", index=False)"
   ]
  }
 ],
 "metadata": {
  "kernelspec": {
   "display_name": ".ve",
   "language": "python",
   "name": "python3"
  },
  "language_info": {
   "codemirror_mode": {
    "name": "ipython",
    "version": 3
   },
   "file_extension": ".py",
   "mimetype": "text/x-python",
   "name": "python",
   "nbconvert_exporter": "python",
   "pygments_lexer": "ipython3",
   "version": "3.12.0"
  }
 },
 "nbformat": 4,
 "nbformat_minor": 2
}
