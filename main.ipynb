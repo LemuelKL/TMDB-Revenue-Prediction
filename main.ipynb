{
 "cells": [
  {
   "cell_type": "code",
   "execution_count": 9,
   "metadata": {},
   "outputs": [],
   "source": [
    "import pandas as pd\n",
    "import numpy as np\n",
    "import matplotlib.pyplot as plt\n",
    "import seaborn as sns\n",
    "from sklearn.linear_model import LinearRegression, LogisticRegression\n",
    "from sklearn.svm import SVR\n",
    "from sklearn.ensemble import RandomForestRegressor\n",
    "from sklearn.tree import DecisionTreeRegressor\n",
    "from sklearn.neighbors import KNeighborsRegressor\n",
    "from sklearn.neural_network import MLPRegressor\n",
    "from sklearn.decomposition import PCA\n",
    "from sklearn.pipeline import make_pipeline\n",
    "from sklearn.preprocessing import StandardScaler, RobustScaler, MinMaxScaler, Normalizer\n",
    "from sklearn.metrics import (\n",
    "    r2_score,\n",
    "    mean_squared_error,\n",
    "    mean_absolute_error,\n",
    "    make_scorer,\n",
    "    mean_squared_log_error,\n",
    ")\n",
    "from sklearn.feature_extraction.text import CountVectorizer\n",
    "from sklearn.model_selection import GridSearchCV, train_test_split, cross_val_score"
   ]
  },
  {
   "cell_type": "code",
   "execution_count": 10,
   "metadata": {},
   "outputs": [],
   "source": [
    "train = pd.read_csv(\"train.csv\")\n",
    "test = pd.read_csv(\"test.csv\")"
   ]
  },
  {
   "cell_type": "code",
   "execution_count": 11,
   "metadata": {},
   "outputs": [],
   "source": [
    "def process_data(data_df):\n",
    "    data_df = data_df[\n",
    "        [\n",
    "            \"budget\",\n",
    "            \"popularity\",\n",
    "            \"runtime\",\n",
    "            \"vote_average\",\n",
    "            \"vote_count\",\n",
    "            \"release_date\",\n",
    "            \"revenue\",\n",
    "        ]\n",
    "    ]\n",
    "    data_df[\"release_date\"] = pd.to_datetime(data_df[\"release_date\"])\n",
    "    data_df[\"release_year\"] = data_df[\"release_date\"].dt.year\n",
    "    data_df = data_df.drop(columns=[\"release_date\"])\n",
    "\n",
    "    return data_df"
   ]
  },
  {
   "cell_type": "code",
   "execution_count": 12,
   "metadata": {},
   "outputs": [
    {
     "name": "stderr",
     "output_type": "stream",
     "text": [
      "C:\\Users\\lemuelkl\\AppData\\Local\\Temp\\ipykernel_25584\\2011059654.py:13: SettingWithCopyWarning: \n",
      "A value is trying to be set on a copy of a slice from a DataFrame.\n",
      "Try using .loc[row_indexer,col_indexer] = value instead\n",
      "\n",
      "See the caveats in the documentation: https://pandas.pydata.org/pandas-docs/stable/user_guide/indexing.html#returning-a-view-versus-a-copy\n",
      "  data_df[\"release_date\"] = pd.to_datetime(data_df[\"release_date\"])\n",
      "C:\\Users\\lemuelkl\\AppData\\Local\\Temp\\ipykernel_25584\\2011059654.py:14: SettingWithCopyWarning: \n",
      "A value is trying to be set on a copy of a slice from a DataFrame.\n",
      "Try using .loc[row_indexer,col_indexer] = value instead\n",
      "\n",
      "See the caveats in the documentation: https://pandas.pydata.org/pandas-docs/stable/user_guide/indexing.html#returning-a-view-versus-a-copy\n",
      "  data_df[\"release_year\"] = data_df[\"release_date\"].dt.year\n",
      "C:\\Users\\lemuelkl\\AppData\\Local\\Temp\\ipykernel_25584\\2011059654.py:13: SettingWithCopyWarning: \n",
      "A value is trying to be set on a copy of a slice from a DataFrame.\n",
      "Try using .loc[row_indexer,col_indexer] = value instead\n",
      "\n",
      "See the caveats in the documentation: https://pandas.pydata.org/pandas-docs/stable/user_guide/indexing.html#returning-a-view-versus-a-copy\n",
      "  data_df[\"release_date\"] = pd.to_datetime(data_df[\"release_date\"])\n",
      "C:\\Users\\lemuelkl\\AppData\\Local\\Temp\\ipykernel_25584\\2011059654.py:14: SettingWithCopyWarning: \n",
      "A value is trying to be set on a copy of a slice from a DataFrame.\n",
      "Try using .loc[row_indexer,col_indexer] = value instead\n",
      "\n",
      "See the caveats in the documentation: https://pandas.pydata.org/pandas-docs/stable/user_guide/indexing.html#returning-a-view-versus-a-copy\n",
      "  data_df[\"release_year\"] = data_df[\"release_date\"].dt.year\n"
     ]
    }
   ],
   "source": [
    "train = process_data(train)\n",
    "test = process_data(test)"
   ]
  },
  {
   "cell_type": "code",
   "execution_count": 13,
   "metadata": {},
   "outputs": [
    {
     "data": {
      "text/html": [
       "<style>#sk-container-id-2 {color: black;}#sk-container-id-2 pre{padding: 0;}#sk-container-id-2 div.sk-toggleable {background-color: white;}#sk-container-id-2 label.sk-toggleable__label {cursor: pointer;display: block;width: 100%;margin-bottom: 0;padding: 0.3em;box-sizing: border-box;text-align: center;}#sk-container-id-2 label.sk-toggleable__label-arrow:before {content: \"▸\";float: left;margin-right: 0.25em;color: #696969;}#sk-container-id-2 label.sk-toggleable__label-arrow:hover:before {color: black;}#sk-container-id-2 div.sk-estimator:hover label.sk-toggleable__label-arrow:before {color: black;}#sk-container-id-2 div.sk-toggleable__content {max-height: 0;max-width: 0;overflow: hidden;text-align: left;background-color: #f0f8ff;}#sk-container-id-2 div.sk-toggleable__content pre {margin: 0.2em;color: black;border-radius: 0.25em;background-color: #f0f8ff;}#sk-container-id-2 input.sk-toggleable__control:checked~div.sk-toggleable__content {max-height: 200px;max-width: 100%;overflow: auto;}#sk-container-id-2 input.sk-toggleable__control:checked~label.sk-toggleable__label-arrow:before {content: \"▾\";}#sk-container-id-2 div.sk-estimator input.sk-toggleable__control:checked~label.sk-toggleable__label {background-color: #d4ebff;}#sk-container-id-2 div.sk-label input.sk-toggleable__control:checked~label.sk-toggleable__label {background-color: #d4ebff;}#sk-container-id-2 input.sk-hidden--visually {border: 0;clip: rect(1px 1px 1px 1px);clip: rect(1px, 1px, 1px, 1px);height: 1px;margin: -1px;overflow: hidden;padding: 0;position: absolute;width: 1px;}#sk-container-id-2 div.sk-estimator {font-family: monospace;background-color: #f0f8ff;border: 1px dotted black;border-radius: 0.25em;box-sizing: border-box;margin-bottom: 0.5em;}#sk-container-id-2 div.sk-estimator:hover {background-color: #d4ebff;}#sk-container-id-2 div.sk-parallel-item::after {content: \"\";width: 100%;border-bottom: 1px solid gray;flex-grow: 1;}#sk-container-id-2 div.sk-label:hover label.sk-toggleable__label {background-color: #d4ebff;}#sk-container-id-2 div.sk-serial::before {content: \"\";position: absolute;border-left: 1px solid gray;box-sizing: border-box;top: 0;bottom: 0;left: 50%;z-index: 0;}#sk-container-id-2 div.sk-serial {display: flex;flex-direction: column;align-items: center;background-color: white;padding-right: 0.2em;padding-left: 0.2em;position: relative;}#sk-container-id-2 div.sk-item {position: relative;z-index: 1;}#sk-container-id-2 div.sk-parallel {display: flex;align-items: stretch;justify-content: center;background-color: white;position: relative;}#sk-container-id-2 div.sk-item::before, #sk-container-id-2 div.sk-parallel-item::before {content: \"\";position: absolute;border-left: 1px solid gray;box-sizing: border-box;top: 0;bottom: 0;left: 50%;z-index: -1;}#sk-container-id-2 div.sk-parallel-item {display: flex;flex-direction: column;z-index: 1;position: relative;background-color: white;}#sk-container-id-2 div.sk-parallel-item:first-child::after {align-self: flex-end;width: 50%;}#sk-container-id-2 div.sk-parallel-item:last-child::after {align-self: flex-start;width: 50%;}#sk-container-id-2 div.sk-parallel-item:only-child::after {width: 0;}#sk-container-id-2 div.sk-dashed-wrapped {border: 1px dashed gray;margin: 0 0.4em 0.5em 0.4em;box-sizing: border-box;padding-bottom: 0.4em;background-color: white;}#sk-container-id-2 div.sk-label label {font-family: monospace;font-weight: bold;display: inline-block;line-height: 1.2em;}#sk-container-id-2 div.sk-label-container {text-align: center;}#sk-container-id-2 div.sk-container {/* jupyter's `normalize.less` sets `[hidden] { display: none; }` but bootstrap.min.css set `[hidden] { display: none !important; }` so we also need the `!important` here to be able to override the default hidden behavior on the sphinx rendered scikit-learn.org. See: https://github.com/scikit-learn/scikit-learn/issues/21755 */display: inline-block !important;position: relative;}#sk-container-id-2 div.sk-text-repr-fallback {display: none;}</style><div id=\"sk-container-id-2\" class=\"sk-top-container\"><div class=\"sk-text-repr-fallback\"><pre>Pipeline(steps=[(&#x27;standardscaler&#x27;, StandardScaler()),\n",
       "                (&#x27;randomforestregressor&#x27;, RandomForestRegressor(max_depth=10))])</pre><b>In a Jupyter environment, please rerun this cell to show the HTML representation or trust the notebook. <br />On GitHub, the HTML representation is unable to render, please try loading this page with nbviewer.org.</b></div><div class=\"sk-container\" hidden><div class=\"sk-item sk-dashed-wrapped\"><div class=\"sk-label-container\"><div class=\"sk-label sk-toggleable\"><input class=\"sk-toggleable__control sk-hidden--visually\" id=\"sk-estimator-id-4\" type=\"checkbox\" ><label for=\"sk-estimator-id-4\" class=\"sk-toggleable__label sk-toggleable__label-arrow\">Pipeline</label><div class=\"sk-toggleable__content\"><pre>Pipeline(steps=[(&#x27;standardscaler&#x27;, StandardScaler()),\n",
       "                (&#x27;randomforestregressor&#x27;, RandomForestRegressor(max_depth=10))])</pre></div></div></div><div class=\"sk-serial\"><div class=\"sk-item\"><div class=\"sk-estimator sk-toggleable\"><input class=\"sk-toggleable__control sk-hidden--visually\" id=\"sk-estimator-id-5\" type=\"checkbox\" ><label for=\"sk-estimator-id-5\" class=\"sk-toggleable__label sk-toggleable__label-arrow\">StandardScaler</label><div class=\"sk-toggleable__content\"><pre>StandardScaler()</pre></div></div></div><div class=\"sk-item\"><div class=\"sk-estimator sk-toggleable\"><input class=\"sk-toggleable__control sk-hidden--visually\" id=\"sk-estimator-id-6\" type=\"checkbox\" ><label for=\"sk-estimator-id-6\" class=\"sk-toggleable__label sk-toggleable__label-arrow\">RandomForestRegressor</label><div class=\"sk-toggleable__content\"><pre>RandomForestRegressor(max_depth=10)</pre></div></div></div></div></div></div></div>"
      ],
      "text/plain": [
       "Pipeline(steps=[('standardscaler', StandardScaler()),\n",
       "                ('randomforestregressor', RandomForestRegressor(max_depth=10))])"
      ]
     },
     "execution_count": 13,
     "metadata": {},
     "output_type": "execute_result"
    }
   ],
   "source": [
    "pipeline = make_pipeline(\n",
    "    StandardScaler(),\n",
    "    RandomForestRegressor(\n",
    "        max_depth=10,\n",
    "        # min_samples_leaf=5,\n",
    "        # min_samples_split=5,\n",
    "        # n_estimators=10,\n",
    "    ),\n",
    ")\n",
    "pipeline.fit(train.drop(columns=[\"revenue\"]), train[\"revenue\"])"
   ]
  },
  {
   "cell_type": "code",
   "execution_count": 14,
   "metadata": {},
   "outputs": [
    {
     "name": "stdout",
     "output_type": "stream",
     "text": [
      "R2: 0.9440395388465659\n",
      "RMSLE: -2.2198776880275806\n",
      "R2: 0.7556196308744267\n",
      "RMSLE: -2.3825441294269356\n"
     ]
    }
   ],
   "source": [
    "def rmsle(y_true, y_pred):\n",
    "    return np.sqrt(mean_squared_log_error(y_true, y_pred))\n",
    "\n",
    "\n",
    "rmsle_scorer = make_scorer(rmsle, greater_is_better=False)\n",
    "\n",
    "print(\"R2:\", pipeline.score(train.drop(columns=[\"revenue\"]), train[\"revenue\"]))\n",
    "print(\n",
    "    \"RMSLE:\", rmsle_scorer(pipeline, train.drop(columns=[\"revenue\"]), train[\"revenue\"])\n",
    ")\n",
    "\n",
    "print(\"R2:\", pipeline.score(test.drop(columns=[\"revenue\"]), test[\"revenue\"]))\n",
    "print(\"RMSLE:\", rmsle_scorer(pipeline, test.drop(columns=[\"revenue\"]), test[\"revenue\"]))"
   ]
  },
  {
   "cell_type": "code",
   "execution_count": 15,
   "metadata": {},
   "outputs": [
    {
     "data": {
      "text/html": [
       "<div>\n",
       "<style scoped>\n",
       "    .dataframe tbody tr th:only-of-type {\n",
       "        vertical-align: middle;\n",
       "    }\n",
       "\n",
       "    .dataframe tbody tr th {\n",
       "        vertical-align: top;\n",
       "    }\n",
       "\n",
       "    .dataframe thead th {\n",
       "        text-align: right;\n",
       "    }\n",
       "</style>\n",
       "<table border=\"1\" class=\"dataframe\">\n",
       "  <thead>\n",
       "    <tr style=\"text-align: right;\">\n",
       "      <th></th>\n",
       "      <th>budget</th>\n",
       "      <th>popularity</th>\n",
       "      <th>runtime</th>\n",
       "      <th>vote_average</th>\n",
       "      <th>vote_count</th>\n",
       "      <th>revenue</th>\n",
       "      <th>release_year</th>\n",
       "      <th>predicted</th>\n",
       "      <th>error</th>\n",
       "      <th>error_rank</th>\n",
       "    </tr>\n",
       "  </thead>\n",
       "  <tbody>\n",
       "    <tr>\n",
       "      <th>2980</th>\n",
       "      <td>0.0</td>\n",
       "      <td>19.853</td>\n",
       "      <td>119.0</td>\n",
       "      <td>6.200</td>\n",
       "      <td>138.0</td>\n",
       "      <td>0.0</td>\n",
       "      <td>1991</td>\n",
       "      <td>8.033573e+06</td>\n",
       "      <td>inf</td>\n",
       "      <td>20.5</td>\n",
       "    </tr>\n",
       "    <tr>\n",
       "      <th>3511</th>\n",
       "      <td>0.0</td>\n",
       "      <td>6.778</td>\n",
       "      <td>111.0</td>\n",
       "      <td>6.300</td>\n",
       "      <td>83.0</td>\n",
       "      <td>0.0</td>\n",
       "      <td>2004</td>\n",
       "      <td>1.183666e+06</td>\n",
       "      <td>inf</td>\n",
       "      <td>20.5</td>\n",
       "    </tr>\n",
       "    <tr>\n",
       "      <th>450</th>\n",
       "      <td>0.0</td>\n",
       "      <td>5.895</td>\n",
       "      <td>85.0</td>\n",
       "      <td>6.961</td>\n",
       "      <td>64.0</td>\n",
       "      <td>0.0</td>\n",
       "      <td>2013</td>\n",
       "      <td>5.942525e+05</td>\n",
       "      <td>inf</td>\n",
       "      <td>20.5</td>\n",
       "    </tr>\n",
       "    <tr>\n",
       "      <th>1698</th>\n",
       "      <td>0.0</td>\n",
       "      <td>5.641</td>\n",
       "      <td>100.0</td>\n",
       "      <td>4.900</td>\n",
       "      <td>54.0</td>\n",
       "      <td>0.0</td>\n",
       "      <td>1992</td>\n",
       "      <td>2.605960e+06</td>\n",
       "      <td>inf</td>\n",
       "      <td>20.5</td>\n",
       "    </tr>\n",
       "    <tr>\n",
       "      <th>2955</th>\n",
       "      <td>0.0</td>\n",
       "      <td>9.840</td>\n",
       "      <td>104.0</td>\n",
       "      <td>7.000</td>\n",
       "      <td>866.0</td>\n",
       "      <td>0.0</td>\n",
       "      <td>2012</td>\n",
       "      <td>6.329263e+06</td>\n",
       "      <td>inf</td>\n",
       "      <td>20.5</td>\n",
       "    </tr>\n",
       "    <tr>\n",
       "      <th>453</th>\n",
       "      <td>0.0</td>\n",
       "      <td>7.297</td>\n",
       "      <td>114.0</td>\n",
       "      <td>5.700</td>\n",
       "      <td>24.0</td>\n",
       "      <td>0.0</td>\n",
       "      <td>2014</td>\n",
       "      <td>6.303141e+05</td>\n",
       "      <td>inf</td>\n",
       "      <td>20.5</td>\n",
       "    </tr>\n",
       "    <tr>\n",
       "      <th>3567</th>\n",
       "      <td>1500000.0</td>\n",
       "      <td>24.746</td>\n",
       "      <td>148.0</td>\n",
       "      <td>8.000</td>\n",
       "      <td>607.0</td>\n",
       "      <td>0.0</td>\n",
       "      <td>2004</td>\n",
       "      <td>1.583210e+07</td>\n",
       "      <td>inf</td>\n",
       "      <td>20.5</td>\n",
       "    </tr>\n",
       "    <tr>\n",
       "      <th>1305</th>\n",
       "      <td>0.0</td>\n",
       "      <td>8.716</td>\n",
       "      <td>90.0</td>\n",
       "      <td>5.400</td>\n",
       "      <td>30.0</td>\n",
       "      <td>0.0</td>\n",
       "      <td>1996</td>\n",
       "      <td>9.975222e+05</td>\n",
       "      <td>inf</td>\n",
       "      <td>20.5</td>\n",
       "    </tr>\n",
       "    <tr>\n",
       "      <th>3609</th>\n",
       "      <td>0.0</td>\n",
       "      <td>5.615</td>\n",
       "      <td>110.0</td>\n",
       "      <td>6.900</td>\n",
       "      <td>54.0</td>\n",
       "      <td>0.0</td>\n",
       "      <td>2005</td>\n",
       "      <td>9.176187e+05</td>\n",
       "      <td>inf</td>\n",
       "      <td>20.5</td>\n",
       "    </tr>\n",
       "    <tr>\n",
       "      <th>4219</th>\n",
       "      <td>10000000.0</td>\n",
       "      <td>10.532</td>\n",
       "      <td>92.0</td>\n",
       "      <td>5.697</td>\n",
       "      <td>38.0</td>\n",
       "      <td>0.0</td>\n",
       "      <td>1997</td>\n",
       "      <td>5.314904e+06</td>\n",
       "      <td>inf</td>\n",
       "      <td>20.5</td>\n",
       "    </tr>\n",
       "  </tbody>\n",
       "</table>\n",
       "</div>"
      ],
      "text/plain": [
       "          budget  popularity  runtime  vote_average  vote_count  revenue  \\\n",
       "2980         0.0      19.853    119.0         6.200       138.0      0.0   \n",
       "3511         0.0       6.778    111.0         6.300        83.0      0.0   \n",
       "450          0.0       5.895     85.0         6.961        64.0      0.0   \n",
       "1698         0.0       5.641    100.0         4.900        54.0      0.0   \n",
       "2955         0.0       9.840    104.0         7.000       866.0      0.0   \n",
       "453          0.0       7.297    114.0         5.700        24.0      0.0   \n",
       "3567   1500000.0      24.746    148.0         8.000       607.0      0.0   \n",
       "1305         0.0       8.716     90.0         5.400        30.0      0.0   \n",
       "3609         0.0       5.615    110.0         6.900        54.0      0.0   \n",
       "4219  10000000.0      10.532     92.0         5.697        38.0      0.0   \n",
       "\n",
       "      release_year     predicted  error  error_rank  \n",
       "2980          1991  8.033573e+06    inf        20.5  \n",
       "3511          2004  1.183666e+06    inf        20.5  \n",
       "450           2013  5.942525e+05    inf        20.5  \n",
       "1698          1992  2.605960e+06    inf        20.5  \n",
       "2955          2012  6.329263e+06    inf        20.5  \n",
       "453           2014  6.303141e+05    inf        20.5  \n",
       "3567          2004  1.583210e+07    inf        20.5  \n",
       "1305          1996  9.975222e+05    inf        20.5  \n",
       "3609          2005  9.176187e+05    inf        20.5  \n",
       "4219          1997  5.314904e+06    inf        20.5  "
      ]
     },
     "execution_count": 15,
     "metadata": {},
     "output_type": "execute_result"
    }
   ],
   "source": [
    "# Rank movie predictions by error\n",
    "test[\"predicted\"] = pipeline.predict(test.drop(columns=[\"revenue\"]))\n",
    "# Compute error as absolute difference between predicted and actual revenue over actual revenue\n",
    "test[\"error\"] = np.abs(test[\"predicted\"] - test[\"revenue\"]) / test[\"revenue\"]\n",
    "test[\"error_rank\"] = test[\"error\"].rank(ascending=False)\n",
    "test.sort_values(\"error_rank\", inplace=True)\n",
    "test.head(10)"
   ]
  },
  {
   "cell_type": "code",
   "execution_count": 16,
   "metadata": {},
   "outputs": [
    {
     "data": {
      "image/png": "[encoded data removed]",
      "text/plain": [
       "<Figure size 640x480 with 2 Axes>"
      ]
     },
     "metadata": {},
     "output_type": "display_data"
    }
   ],
   "source": [
    "# Print correlation matrix\n",
    "corr = train.corr()\n",
    "sns.heatmap(corr, annot=True)\n",
    "plt.show()"
   ]
  },
  {
   "cell_type": "code",
   "execution_count": 17,
   "metadata": {},
   "outputs": [
    {
     "name": "stdout",
     "output_type": "stream",
     "text": [
      "              importance\n",
      "vote_count      0.420257\n",
      "budget          0.397490\n",
      "popularity      0.070869\n",
      "runtime         0.039099\n",
      "vote_average    0.038364\n",
      "release_year    0.033921\n"
     ]
    }
   ],
   "source": [
    "# Print the 10 most important features\n",
    "feature_importances = pd.DataFrame(\n",
    "    pipeline.steps[1][1].feature_importances_,\n",
    "    index=train.drop(columns=[\"revenue\"]).columns,\n",
    "    columns=[\"importance\"],\n",
    ").sort_values(\"importance\", ascending=False)\n",
    "print(feature_importances.head(10))"
   ]
  },
  {
   "cell_type": "code",
   "execution_count": 18,
   "metadata": {},
   "outputs": [
    {
     "name": "stdout",
     "output_type": "stream",
     "text": [
      "4395 / 4398\n",
      "4398 / 4398\n"
     ]
    },
    {
     "name": "stderr",
     "output_type": "stream",
     "text": [
      "C:\\Users\\lemuelkl\\AppData\\Local\\Temp\\ipykernel_25584\\3617678365.py:39: SettingWithCopyWarning: \n",
      "A value is trying to be set on a copy of a slice from a DataFrame.\n",
      "Try using .loc[row_indexer,col_indexer] = value instead\n",
      "\n",
      "See the caveats in the documentation: https://pandas.pydata.org/pandas-docs/stable/user_guide/indexing.html#returning-a-view-versus-a-copy\n",
      "  missing_movies[\"revenue\"] = 1000000\n"
     ]
    }
   ],
   "source": [
    "# Make predictions for Kaggle\n",
    "\n",
    "kaggle_df = pd.read_csv(\"test.csv\")\n",
    "kaggle_df = kaggle_df[\n",
    "    [\n",
    "        \"budget\",\n",
    "        \"popularity\",\n",
    "        \"runtime\",\n",
    "        \"vote_average\",\n",
    "        \"vote_count\",\n",
    "        \"release_date\",\n",
    "        \"id_kaggle\",\n",
    "    ]\n",
    "]\n",
    "kaggle_df[\"release_date\"] = pd.to_datetime(kaggle_df[\"release_date\"])\n",
    "kaggle_df[\"release_year\"] = kaggle_df[\"release_date\"].dt.year\n",
    "# kaggle_df[\"cpi\"] = kaggle_df[\"release_date\"].apply(lambda x: cpi.get(x.year))\n",
    "kaggle_df = kaggle_df.drop(columns=[\"release_date\"])\n",
    "\n",
    "kaggle_df[\"revenue\"] = pipeline.predict(\n",
    "    kaggle_df[\n",
    "        [\n",
    "            \"budget\",\n",
    "            \"popularity\",\n",
    "            \"runtime\",\n",
    "            \"vote_average\",\n",
    "            \"vote_count\",\n",
    "            \"release_year\",\n",
    "        ]\n",
    "    ]\n",
    ")\n",
    "kaggle_df = kaggle_df[[\"id_kaggle\", \"revenue\"]]\n",
    "kaggle_df.columns = [\"id\", \"revenue\"]\n",
    "kaggle_df.sort_values(\"id\", inplace=True)\n",
    "\n",
    "sample_submission = pd.read_csv(\"sample_submission.csv\")\n",
    "print(f\"{len(kaggle_df)} / {len(sample_submission)}\")\n",
    "missing_movies = sample_submission[~sample_submission[\"id\"].isin(kaggle_df[\"id\"])]\n",
    "missing_movies[\"revenue\"] = 1000000\n",
    "kaggle_df = pd.concat([kaggle_df, missing_movies])\n",
    "print(f\"{len(kaggle_df)} / {len(sample_submission)}\")\n",
    "\n",
    "kaggle_df.to_csv(\"submission.csv\", index=False)"
   ]
  }
 ],
 "metadata": {
  "kernelspec": {
   "display_name": ".ve",
   "language": "python",
   "name": "python3"
  },
  "language_info": {
   "codemirror_mode": {
    "name": "ipython",
    "version": 3
   },
   "file_extension": ".py",
   "mimetype": "text/x-python",
   "name": "python",
   "nbconvert_exporter": "python",
   "pygments_lexer": "ipython3",
   "version": "3.12.0"
  }
 },
 "nbformat": 4,
 "nbformat_minor": 2
}
