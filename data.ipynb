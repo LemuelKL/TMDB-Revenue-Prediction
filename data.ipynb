{
 "cells": [
  {
   "cell_type": "code",
   "execution_count": 101,
   "metadata": {},
   "outputs": [],
   "source": [
    "import pandas as pd\n",
    "import glob"
   ]
  },
  {
   "cell_type": "code",
   "execution_count": 102,
   "metadata": {},
   "outputs": [],
   "source": [
    "train_df = pd.concat(\n",
    "    [pd.read_csv(f) for f in glob.glob(\"data/*.csv\")], ignore_index=True\n",
    ")\n",
    "# Remove useless columns\n",
    "train_df = train_df.drop(\n",
    "    columns=[\n",
    "        \"adult\",\n",
    "        \"backdrop_path\",\n",
    "        \"belongs_to_collection\",\n",
    "        \"homepage\",\n",
    "        \"poster_path\",\n",
    "        \"video\",\n",
    "        \"tagline\",\n",
    "        \"title\",\n",
    "        \"original_title\",\n",
    "        \"overview\",\n",
    "    ]\n",
    ")"
   ]
  },
  {
   "cell_type": "code",
   "execution_count": 103,
   "metadata": {},
   "outputs": [
    {
     "name": "stdout",
     "output_type": "stream",
     "text": [
      "Removed 4395 rows\n",
      "Test size: 4395 / 4398\n"
     ]
    }
   ],
   "source": [
    "old_len = len(train_df)\n",
    "kaggle_test_df = pd.read_csv(\"kaggle_test.csv\")\n",
    "imdb_id_to_remove = kaggle_test_df[\"imdb_id\"].values\n",
    "test_df = train_df[train_df[\"imdb_id\"].isin(imdb_id_to_remove)]\n",
    "# Copy id column from kaggle_test_df to test_df by the same imdb_id\n",
    "test_df = test_df.merge(kaggle_test_df[[\"imdb_id\", \"id\"]], on=\"imdb_id\",suffixes=('', '_kaggle'))\n",
    "\n",
    "train_df = train_df[~train_df[\"imdb_id\"].isin(imdb_id_to_remove)]\n",
    "new_len = len(train_df)\n",
    "print(f\"Removed {old_len - new_len} rows\")\n",
    "print(f\"Test size: {len(test_df)} / {len(kaggle_test_df)}\")\n",
    "test_df.to_csv(\"test.csv\", index=False)"
   ]
  },
  {
   "cell_type": "code",
   "execution_count": 104,
   "metadata": {},
   "outputs": [
    {
     "name": "stdout",
     "output_type": "stream",
     "text": [
      "498761\n",
      "511161\n",
      "104126\n"
     ]
    }
   ],
   "source": [
    "print(len(train_df[train_df['budget'] == 0]))\n",
    "print(len(train_df[train_df['revenue'] == 0]))\n",
    "print(len(train_df[train_df['runtime'] == 0]))"
   ]
  },
  {
   "cell_type": "code",
   "execution_count": 105,
   "metadata": {},
   "outputs": [
    {
     "name": "stdout",
     "output_type": "stream",
     "text": [
      "Removed 516647 rows\n"
     ]
    }
   ],
   "source": [
    "old_len = len(train_df)\n",
    "train_df = train_df[train_df[\"budget\"] > 0]\n",
    "train_df = train_df[train_df[\"revenue\"] > 0]\n",
    "train_df = train_df[train_df[\"runtime\"] > 0]\n",
    "train_df = train_df.dropna()\n",
    "new_len = len(train_df)\n",
    "print(f\"Removed {old_len - new_len} rows\")"
   ]
  },
  {
   "cell_type": "code",
   "execution_count": 106,
   "metadata": {},
   "outputs": [
    {
     "name": "stdout",
     "output_type": "stream",
     "text": [
      "<class 'pandas.core.frame.DataFrame'>\n",
      "Index: 6608 entries, 9 to 527134\n",
      "Data columns (total 15 columns):\n",
      " #   Column                Non-Null Count  Dtype  \n",
      "---  ------                --------------  -----  \n",
      " 0   budget                6608 non-null   float64\n",
      " 1   genres                6608 non-null   object \n",
      " 2   id                    6608 non-null   float64\n",
      " 3   imdb_id               6608 non-null   object \n",
      " 4   original_language     6608 non-null   object \n",
      " 5   popularity            6608 non-null   float64\n",
      " 6   production_companies  6608 non-null   object \n",
      " 7   production_countries  6608 non-null   object \n",
      " 8   release_date          6608 non-null   object \n",
      " 9   revenue               6608 non-null   float64\n",
      " 10  runtime               6608 non-null   float64\n",
      " 11  spoken_languages      6608 non-null   object \n",
      " 12  status                6608 non-null   object \n",
      " 13  vote_average          6608 non-null   float64\n",
      " 14  vote_count            6608 non-null   float64\n",
      "dtypes: float64(7), object(8)\n",
      "memory usage: 826.0+ KB\n",
      "None\n"
     ]
    }
   ],
   "source": [
    "print(train_df.info())"
   ]
  },
  {
   "cell_type": "code",
   "execution_count": 107,
   "metadata": {},
   "outputs": [],
   "source": [
    "train_df.to_csv(\"train.csv\", index=False)"
   ]
  }
 ],
 "metadata": {
  "kernelspec": {
   "display_name": ".ve",
   "language": "python",
   "name": "python3"
  },
  "language_info": {
   "codemirror_mode": {
    "name": "ipython",
    "version": 3
   },
   "file_extension": ".py",
   "mimetype": "text/x-python",
   "name": "python",
   "nbconvert_exporter": "python",
   "pygments_lexer": "ipython3",
   "version": "3.12.0"
  }
 },
 "nbformat": 4,
 "nbformat_minor": 2
}
