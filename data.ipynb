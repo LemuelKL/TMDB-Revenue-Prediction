{
 "cells": [
  {
   "cell_type": "code",
   "execution_count": 31,
   "metadata": {},
   "outputs": [],
   "source": [
    "import pandas as pd\n",
    "import glob"
   ]
  },
  {
   "cell_type": "code",
   "execution_count": 32,
   "metadata": {},
   "outputs": [],
   "source": [
    "train_df = pd.concat(\n",
    "    [pd.read_csv(f) for f in glob.glob(\"data/*.csv\")], ignore_index=True\n",
    ")\n",
    "# Remove useless columns\n",
    "train_df = train_df.drop(\n",
    "    columns=[\n",
    "        \"adult\",\n",
    "        \"backdrop_path\",\n",
    "        \"belongs_to_collection\",\n",
    "        \"homepage\",\n",
    "        \"poster_path\",\n",
    "        \"video\",\n",
    "        \"tagline\",\n",
    "        \"title\",\n",
    "        \"original_title\",\n",
    "        \"overview\",\n",
    "    ]\n",
    ")"
   ]
  },
  {
   "cell_type": "code",
   "execution_count": 33,
   "metadata": {},
   "outputs": [
    {
     "name": "stdout",
     "output_type": "stream",
     "text": [
      "Removed 4379 rows\n",
      "Test size: 4379 / 4398\n"
     ]
    }
   ],
   "source": [
    "old_len = len(train_df)\n",
    "kaggle_test_df = pd.read_csv(\"kaggle_test.csv\")\n",
    "imdb_id_to_remove = kaggle_test_df[\"imdb_id\"].values\n",
    "test_df = train_df[train_df[\"imdb_id\"].isin(imdb_id_to_remove)]\n",
    "train_df = train_df[~train_df[\"imdb_id\"].isin(imdb_id_to_remove)]\n",
    "new_len = len(train_df)\n",
    "print(f\"Removed {old_len - new_len} rows\")\n",
    "print(f\"Test size: {len(test_df)} / {len(kaggle_test_df)}\")\n",
    "test_df.to_csv(\"test.csv\", index=False)"
   ]
  },
  {
   "cell_type": "code",
   "execution_count": 34,
   "metadata": {},
   "outputs": [
    {
     "name": "stdout",
     "output_type": "stream",
     "text": [
      "Removed 264529 rows\n"
     ]
    }
   ],
   "source": [
    "old_len = len(train_df)\n",
    "train_df = train_df[train_df[\"budget\"] > 0]\n",
    "train_df = train_df[train_df[\"revenue\"] > 0]\n",
    "train_df = train_df[train_df[\"runtime\"] > 0]\n",
    "train_df = train_df.dropna()\n",
    "new_len = len(train_df)\n",
    "print(f\"Removed {old_len - new_len} rows\")"
   ]
  },
  {
   "cell_type": "code",
   "execution_count": 35,
   "metadata": {},
   "outputs": [
    {
     "name": "stdout",
     "output_type": "stream",
     "text": [
      "<class 'pandas.core.frame.DataFrame'>\n",
      "Index: 5242 entries, 9 to 273634\n",
      "Data columns (total 15 columns):\n",
      " #   Column                Non-Null Count  Dtype  \n",
      "---  ------                --------------  -----  \n",
      " 0   budget                5242 non-null   float64\n",
      " 1   genres                5242 non-null   object \n",
      " 2   id                    5242 non-null   float64\n",
      " 3   imdb_id               5242 non-null   object \n",
      " 4   original_language     5242 non-null   object \n",
      " 5   popularity            5242 non-null   float64\n",
      " 6   production_companies  5242 non-null   object \n",
      " 7   production_countries  5242 non-null   object \n",
      " 8   release_date          5242 non-null   object \n",
      " 9   revenue               5242 non-null   float64\n",
      " 10  runtime               5242 non-null   float64\n",
      " 11  spoken_languages      5242 non-null   object \n",
      " 12  status                5242 non-null   object \n",
      " 13  vote_average          5242 non-null   float64\n",
      " 14  vote_count            5242 non-null   float64\n",
      "dtypes: float64(7), object(8)\n",
      "memory usage: 655.2+ KB\n",
      "None\n"
     ]
    }
   ],
   "source": [
    "print(train_df.info())"
   ]
  },
  {
   "cell_type": "code",
   "execution_count": 36,
   "metadata": {},
   "outputs": [],
   "source": [
    "train_df.to_csv(\"train.csv\", index=False)"
   ]
  }
 ],
 "metadata": {
  "kernelspec": {
   "display_name": ".ve",
   "language": "python",
   "name": "python3"
  },
  "language_info": {
   "codemirror_mode": {
    "name": "ipython",
    "version": 3
   },
   "file_extension": ".py",
   "mimetype": "text/x-python",
   "name": "python",
   "nbconvert_exporter": "python",
   "pygments_lexer": "ipython3",
   "version": "3.12.0"
  }
 },
 "nbformat": 4,
 "nbformat_minor": 2
}
