{
 "cells": [
  {
   "cell_type": "code",
   "execution_count": null,
   "metadata": {},
   "outputs": [],
   "source": [
    "# models = [\n",
    "#     LinearRegression(),\n",
    "#     RandomForestRegressor(),\n",
    "#     SVR(),\n",
    "#     DecisionTreeRegressor(),\n",
    "#     KNeighborsRegressor(),\n",
    "#     MLPRegressor()\n",
    "# ]\n",
    "# scoreboard = pd.DataFrame(columns=[\"model\", \"R2\", \"RMSE\", \"MAE\"])\n",
    "# for _ in range(10):\n",
    "#     for model in models:\n",
    "#         model.fit(X_train, y_train)\n",
    "#         y_pred = model.predict(X_test)\n",
    "#         r2 = r2_score(y_test, y_pred)\n",
    "#         rmse = np.sqrt(mean_squared_error(y_test, y_pred))\n",
    "#         mae = mean_absolute_error(y_test, y_pred)\n",
    "#         scoreboard = pd.concat([scoreboard, pd.DataFrame([{\"model\": model.__class__.__name__, \"R2\": r2, \"RMSE\": rmse, \"MAE\": mae}])], ignore_index=True)\n",
    "\n",
    "# # Join scoreboard by model name to take average\n",
    "# scoreboard = scoreboard.groupby(\"model\").mean().reset_index()\n",
    "# scoreboard = scoreboard.sort_values(by=\"R2\", ascending=False)\n",
    "# scoreboard"
   ]
  },
  {
   "cell_type": "code",
   "execution_count": null,
   "metadata": {},
   "outputs": [],
   "source": [
    "# model = RandomForestRegressor()\n",
    "# # Grid search for RandomForestRegressor\n",
    "# param_grid = {\n",
    "#     \"n_estimators\": [10, 50, 100, 200],\n",
    "#     \"max_depth\": [None, 10, 50, 100],\n",
    "#     \"min_samples_split\": [2, 5, 10],\n",
    "#     \"min_samples_leaf\": [1, 2, 4],\n",
    "# }\n",
    "# grid = GridSearchCV(model, param_grid, cv=5, verbose=3)\n",
    "# grid.fit(X_train, y_train)"
   ]
  },
  {
   "cell_type": "code",
   "execution_count": null,
   "metadata": {},
   "outputs": [],
   "source": [
    "# Show best parameters\n",
    "# grid_df = pd.DataFrame(grid.cv_results_)\n",
    "# grid_df.sort_values(by=[\"rank_test_score\"], inplace=True)\n",
    "# grid_df.head(5)\n",
    "# grid.best_estimator_"
   ]
  }
 ],
 "metadata": {
  "language_info": {
   "name": "python"
  }
 },
 "nbformat": 4,
 "nbformat_minor": 2
}
